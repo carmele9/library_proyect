{
 "cells": [
  {
   "metadata": {},
   "cell_type": "code",
   "outputs": [],
   "execution_count": null,
   "source": [
    "import pandas as pd\n",
    "from mlxtend.frequent_patterns import apriori, association_rules"
   ],
   "id": "8c8cdaa0ab539dfd"
  },
  {
   "metadata": {},
   "cell_type": "code",
   "outputs": [],
   "execution_count": null,
   "source": [
    "# --- 1. Cargar los datos ---\n",
    "ratings = pd.read_csv('casa_cultura_data/ratings.csv')\n",
    "copies = pd.read_csv('casa_cultura_data/copies(ejemplares).csv')         # copy_id, book_id\n",
    "books = pd.read_csv('casa_cultura_data/books.csv')           # book_id, title\n",
    "# Eliminar nulos\n",
    "ratings.dropna(subset=['user_id', 'copy_id', 'rating'], inplace=True)\n",
    "copies.dropna(subset=['copy_id', 'book_id'], inplace=True)\n",
    "books.dropna(subset=['book_id', 'title'], inplace=True)\n",
    "# Eliminar ratings fuera del rango\n",
    "ratings = ratings[(ratings['rating'] >= 1) & (ratings['rating'] <= 5)]\n",
    "# Eliminar duplicados si los hubiera\n",
    "ratings.drop_duplicates(inplace=True)\n",
    "copies.drop_duplicates(inplace=True)\n",
    "books.drop_duplicates(subset='book_id', inplace=True)\n",
    "\n",
    "\n",
    "# --- 2. Unir ratings con books ---\n",
    "# Paso 1: Obtener book_id a partir de copy_id\n",
    "ratings_books = ratings.merge(copies, on='copy_id', how='left')\n",
    "\n",
    "# Paso 2: Unir con libros para tener títulos\n",
    "ratings_books = ratings_books.merge(books[['book_id', 'title']], on='book_id', how='left')\n",
    "\n",
    "# --- 3. Filtrar solo valoraciones positivas (ej: >= 4) ---\n",
    "ratings_books = ratings_books[ratings_books['rating'] >= 4]\n",
    "\n",
    "# --- 4. Crear tabla de transacciones usuario-libros ---\n",
    "basket = ratings_books.groupby(['user_id', 'title'])['rating'].count().unstack().fillna(0)\n",
    "basket = basket.applymap(lambda x: 1 if x > 0 else 0)\n",
    "\n",
    "# --- 5. Aplicar Apriori ---\n",
    "frequent_itemsets = apriori(basket, min_support=0.01, use_colnames=True)\n",
    "\n",
    "# --- 6. Generar reglas ---\n",
    "rules = association_rules(frequent_itemsets, metric=\"lift\", min_threshold=1.0)\n",
    "rules = rules.sort_values(by='lift', ascending=False)\n",
    "\n",
    "# --- 7. Mostrar recomendaciones ---\n",
    "def recomendar_libros(basado_en_libro, top_n=5):\n",
    "    basado_en_libro = basado_en_libro.lower()\n",
    "    recomendados = []\n",
    "\n",
    "    for _, row in rules.iterrows():\n",
    "        if basado_en_libro in [x.lower() for x in row['antecedents']]:\n",
    "            recomendados.extend(row['consequents'])\n",
    "\n",
    "    # Eliminar duplicados y limitar a N\n",
    "    recomendados = list(set(recomendados))\n",
    "    return recomendados[:top_n]\n",
    "\n",
    "# Ejemplo de uso:\n",
    "print(\"Si te gustó 'The Hobbit', también podrías leer:\")\n",
    "print(recomendar_libros('The Hobbit'))\n",
    "\n"
   ],
   "id": "ff49d63f5553294a"
  },
  {
   "metadata": {},
   "cell_type": "code",
   "outputs": [],
   "execution_count": null,
   "source": [
    "# --- 2. Unir ratings con books ---\n",
    "# Paso 1: Obtener book_id a partir de copy_id\n",
    "ratings_books = ratings.merge(copies, on='copy_id', how='left')\n",
    "\n",
    "# Paso 2: Unir con libros para tener títulos\n",
    "ratings_books = ratings_books.merge(books[['book_id', 'title']], on='book_id', how='left')\n",
    "\n",
    "\n"
   ],
   "id": "c4cf8ff2a65242bb"
  },
  {
   "metadata": {},
   "cell_type": "code",
   "outputs": [],
   "execution_count": null,
   "source": [
    "# --- 3. Filtrar solo valoraciones positivas (ej: >= 4) ---\n",
    "ratings_books = ratings_books[ratings_books['rating'] >= 4]\n"
   ],
   "id": "b5c1b37ad333f8a1"
  },
  {
   "metadata": {},
   "cell_type": "code",
   "outputs": [],
   "execution_count": null,
   "source": [
    "# --- 4. Crear tabla de transacciones usuario-libros ---\n",
    "basket = ratings_books.groupby(['user_id', 'title'])['rating'].count().unstack().fillna(0)\n",
    "basket = basket.applymap(lambda x: 1 if x > 0 else 0)"
   ],
   "id": "466e680cea89227e"
  },
  {
   "metadata": {},
   "cell_type": "code",
   "outputs": [],
   "execution_count": null,
   "source": [
    "# --- 5. Aplicar Apriori ---\n",
    "frequent_itemsets = apriori(basket, min_support=0.01, use_colnames=True)"
   ],
   "id": "7a89813192d0a723"
  },
  {
   "metadata": {},
   "cell_type": "code",
   "outputs": [],
   "execution_count": null,
   "source": [
    "# --- 6. Generar reglas ---\n",
    "rules = association_rules(frequent_itemsets, metric=\"lift\", min_threshold=1.0)\n",
    "rules = rules.sort_values(by='lift', ascending=False)"
   ],
   "id": "fa44f549a4a3d77c"
  },
  {
   "metadata": {},
   "cell_type": "code",
   "outputs": [],
   "execution_count": null,
   "source": [
    "# --- 7. Mostrar recomendaciones ---\n",
    "def recomendar_libros(basado_en_libro, top_n=5):\n",
    "    basado_en_libro = basado_en_libro.lower()\n",
    "    recomendados = []\n",
    "\n",
    "    for _, row in rules.iterrows():\n",
    "        if basado_en_libro in [x.lower() for x in row['antecedents']]:\n",
    "            recomendados.extend(row['consequents'])\n",
    "\n",
    "    # Eliminar duplicados y limitar a N\n",
    "    recomendados = list(set(recomendados))\n",
    "    return recomendados[:top_n]"
   ],
   "id": "ec786d9bda7fff61"
  },
  {
   "metadata": {},
   "cell_type": "code",
   "outputs": [],
   "execution_count": null,
   "source": [
    "# Ejemplo de uso:\n",
    "print(\"Si te gustó 'The Hobbit', también podrías leer:\")\n",
    "print(recomendar_libros('The Hobbit'))"
   ],
   "id": "822194ab442ade64"
  }
 ],
 "metadata": {
  "kernelspec": {
   "display_name": "Python 3",
   "language": "python",
   "name": "python3"
  },
  "language_info": {
   "codemirror_mode": {
    "name": "ipython",
    "version": 2
   },
   "file_extension": ".py",
   "mimetype": "text/x-python",
   "name": "python",
   "nbconvert_exporter": "python",
   "pygments_lexer": "ipython2",
   "version": "2.7.6"
  }
 },
 "nbformat": 4,
 "nbformat_minor": 5
}
