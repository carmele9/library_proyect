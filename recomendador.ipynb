{
 "cells": [
  {
   "metadata": {
    "ExecuteTime": {
     "end_time": "2025-05-12T18:59:32.406812Z",
     "start_time": "2025-05-12T18:59:31.690796Z"
    }
   },
   "cell_type": "code",
   "source": [
    "import pandas as pd\n",
    "from mlxtend.frequent_patterns import apriori, association_rules"
   ],
   "id": "8c8cdaa0ab539dfd",
   "outputs": [],
   "execution_count": 1
  },
  {
   "metadata": {
    "ExecuteTime": {
     "end_time": "2025-05-12T18:59:35.250373Z",
     "start_time": "2025-05-12T18:59:33.713929Z"
    }
   },
   "cell_type": "code",
   "source": [
    "# --- 1. Cargar los datos ---\n",
    "ratings = pd.read_csv('casa_cultura_data/ratings.csv')\n",
    "copies = pd.read_csv('casa_cultura_data/copies(ejemplares).csv')         # copy_id, book_id\n",
    "books = pd.read_csv('casa_cultura_data/books.csv', quotechar='\"', sep=',', encoding='utf-8', on_bad_lines='skip')           # book_id, title\n",
    "# Eliminar nulos\n",
    "ratings.dropna(subset=['user_id', 'copy_id', 'rating'], inplace=True)\n",
    "copies.dropna(subset=['copy_id', 'book_id'], inplace=True)\n",
    "books.dropna(subset=['book_id', 'title'], inplace=True)\n",
    "# Eliminar ratings fuera del rango\n",
    "ratings = ratings[(ratings['rating'] >= 1) & (ratings['rating'] <= 5)]\n",
    "# Eliminar duplicados si los hubiera\n",
    "ratings.drop_duplicates(inplace=True)\n",
    "copies.drop_duplicates(inplace=True)\n",
    "books.drop_duplicates(subset='book_id', inplace=True)"
   ],
   "id": "ff49d63f5553294a",
   "outputs": [],
   "execution_count": 2
  },
  {
   "metadata": {
    "ExecuteTime": {
     "end_time": "2025-05-12T18:59:38.832199Z",
     "start_time": "2025-05-12T18:59:38.820273Z"
    }
   },
   "cell_type": "code",
   "source": "ratings.head()",
   "id": "a76cde8eb07fd6e",
   "outputs": [
    {
     "data": {
      "text/plain": [
       "   user_id  copy_id  rating\n",
       "0        1       11       5\n",
       "1        1       43       4\n",
       "2        1       44       5\n",
       "3        1       56       4\n",
       "4        1       71       3"
      ],
      "text/html": [
       "<div>\n",
       "<style scoped>\n",
       "    .dataframe tbody tr th:only-of-type {\n",
       "        vertical-align: middle;\n",
       "    }\n",
       "\n",
       "    .dataframe tbody tr th {\n",
       "        vertical-align: top;\n",
       "    }\n",
       "\n",
       "    .dataframe thead th {\n",
       "        text-align: right;\n",
       "    }\n",
       "</style>\n",
       "<table border=\"1\" class=\"dataframe\">\n",
       "  <thead>\n",
       "    <tr style=\"text-align: right;\">\n",
       "      <th></th>\n",
       "      <th>user_id</th>\n",
       "      <th>copy_id</th>\n",
       "      <th>rating</th>\n",
       "    </tr>\n",
       "  </thead>\n",
       "  <tbody>\n",
       "    <tr>\n",
       "      <th>0</th>\n",
       "      <td>1</td>\n",
       "      <td>11</td>\n",
       "      <td>5</td>\n",
       "    </tr>\n",
       "    <tr>\n",
       "      <th>1</th>\n",
       "      <td>1</td>\n",
       "      <td>43</td>\n",
       "      <td>4</td>\n",
       "    </tr>\n",
       "    <tr>\n",
       "      <th>2</th>\n",
       "      <td>1</td>\n",
       "      <td>44</td>\n",
       "      <td>5</td>\n",
       "    </tr>\n",
       "    <tr>\n",
       "      <th>3</th>\n",
       "      <td>1</td>\n",
       "      <td>56</td>\n",
       "      <td>4</td>\n",
       "    </tr>\n",
       "    <tr>\n",
       "      <th>4</th>\n",
       "      <td>1</td>\n",
       "      <td>71</td>\n",
       "      <td>3</td>\n",
       "    </tr>\n",
       "  </tbody>\n",
       "</table>\n",
       "</div>"
      ]
     },
     "execution_count": 3,
     "metadata": {},
     "output_type": "execute_result"
    }
   ],
   "execution_count": 3
  },
  {
   "metadata": {
    "ExecuteTime": {
     "end_time": "2025-05-12T18:59:41.182480Z",
     "start_time": "2025-05-12T18:59:41.176482Z"
    }
   },
   "cell_type": "code",
   "source": "copies.head()",
   "id": "f8538c3e798f26a9",
   "outputs": [
    {
     "data": {
      "text/plain": [
       "   copy_id  book_id\n",
       "0        1        1\n",
       "1        2        1\n",
       "2        3        1\n",
       "3        4        1\n",
       "4        5        2"
      ],
      "text/html": [
       "<div>\n",
       "<style scoped>\n",
       "    .dataframe tbody tr th:only-of-type {\n",
       "        vertical-align: middle;\n",
       "    }\n",
       "\n",
       "    .dataframe tbody tr th {\n",
       "        vertical-align: top;\n",
       "    }\n",
       "\n",
       "    .dataframe thead th {\n",
       "        text-align: right;\n",
       "    }\n",
       "</style>\n",
       "<table border=\"1\" class=\"dataframe\">\n",
       "  <thead>\n",
       "    <tr style=\"text-align: right;\">\n",
       "      <th></th>\n",
       "      <th>copy_id</th>\n",
       "      <th>book_id</th>\n",
       "    </tr>\n",
       "  </thead>\n",
       "  <tbody>\n",
       "    <tr>\n",
       "      <th>0</th>\n",
       "      <td>1</td>\n",
       "      <td>1</td>\n",
       "    </tr>\n",
       "    <tr>\n",
       "      <th>1</th>\n",
       "      <td>2</td>\n",
       "      <td>1</td>\n",
       "    </tr>\n",
       "    <tr>\n",
       "      <th>2</th>\n",
       "      <td>3</td>\n",
       "      <td>1</td>\n",
       "    </tr>\n",
       "    <tr>\n",
       "      <th>3</th>\n",
       "      <td>4</td>\n",
       "      <td>1</td>\n",
       "    </tr>\n",
       "    <tr>\n",
       "      <th>4</th>\n",
       "      <td>5</td>\n",
       "      <td>2</td>\n",
       "    </tr>\n",
       "  </tbody>\n",
       "</table>\n",
       "</div>"
      ]
     },
     "execution_count": 4,
     "metadata": {},
     "output_type": "execute_result"
    }
   ],
   "execution_count": 4
  },
  {
   "metadata": {
    "ExecuteTime": {
     "end_time": "2025-05-12T18:59:43.308621Z",
     "start_time": "2025-05-12T18:59:43.301263Z"
    }
   },
   "cell_type": "code",
   "source": "books.head()",
   "id": "34985aac9087bffa",
   "outputs": [
    {
     "data": {
      "text/plain": [
       "         isbn            authors  original_publication_year  \\\n",
       "0  1554681723        Garth Stein                     2006.0   \n",
       "1         NaN     Rainbow Rowell                     2013.0   \n",
       "2   679735771  Bret Easton Ellis                     1991.0   \n",
       "3         NaN         Jojo Moyes                     2015.0   \n",
       "4  2266079999         Carl Sagan                     1985.0   \n",
       "\n",
       "                  original_title                          title language_code  \\\n",
       "0  The Art of Racing in the Rain  The Art of Racing in the Rain           eng   \n",
       "1                            NaN                        Fangirl           eng   \n",
       "2                American Psycho                American Psycho           eng   \n",
       "3                      After You  After You (Me Before You, #2)           eng   \n",
       "4                        Contact                        Contact           eng   \n",
       "\n",
       "   book_id                                          image_url  \n",
       "0      216  https://images.gr-assets.com/books/1377206302m...  \n",
       "1      324  https://images.gr-assets.com/books/1499565420m...  \n",
       "2      499  https://images.gr-assets.com/books/1436934349m...  \n",
       "3      566  https://images.gr-assets.com/books/1429029729m...  \n",
       "4     1003  https://images.gr-assets.com/books/1408792653m...  "
      ],
      "text/html": [
       "<div>\n",
       "<style scoped>\n",
       "    .dataframe tbody tr th:only-of-type {\n",
       "        vertical-align: middle;\n",
       "    }\n",
       "\n",
       "    .dataframe tbody tr th {\n",
       "        vertical-align: top;\n",
       "    }\n",
       "\n",
       "    .dataframe thead th {\n",
       "        text-align: right;\n",
       "    }\n",
       "</style>\n",
       "<table border=\"1\" class=\"dataframe\">\n",
       "  <thead>\n",
       "    <tr style=\"text-align: right;\">\n",
       "      <th></th>\n",
       "      <th>isbn</th>\n",
       "      <th>authors</th>\n",
       "      <th>original_publication_year</th>\n",
       "      <th>original_title</th>\n",
       "      <th>title</th>\n",
       "      <th>language_code</th>\n",
       "      <th>book_id</th>\n",
       "      <th>image_url</th>\n",
       "    </tr>\n",
       "  </thead>\n",
       "  <tbody>\n",
       "    <tr>\n",
       "      <th>0</th>\n",
       "      <td>1554681723</td>\n",
       "      <td>Garth Stein</td>\n",
       "      <td>2006.0</td>\n",
       "      <td>The Art of Racing in the Rain</td>\n",
       "      <td>The Art of Racing in the Rain</td>\n",
       "      <td>eng</td>\n",
       "      <td>216</td>\n",
       "      <td>https://images.gr-assets.com/books/1377206302m...</td>\n",
       "    </tr>\n",
       "    <tr>\n",
       "      <th>1</th>\n",
       "      <td>NaN</td>\n",
       "      <td>Rainbow Rowell</td>\n",
       "      <td>2013.0</td>\n",
       "      <td>NaN</td>\n",
       "      <td>Fangirl</td>\n",
       "      <td>eng</td>\n",
       "      <td>324</td>\n",
       "      <td>https://images.gr-assets.com/books/1499565420m...</td>\n",
       "    </tr>\n",
       "    <tr>\n",
       "      <th>2</th>\n",
       "      <td>679735771</td>\n",
       "      <td>Bret Easton Ellis</td>\n",
       "      <td>1991.0</td>\n",
       "      <td>American Psycho</td>\n",
       "      <td>American Psycho</td>\n",
       "      <td>eng</td>\n",
       "      <td>499</td>\n",
       "      <td>https://images.gr-assets.com/books/1436934349m...</td>\n",
       "    </tr>\n",
       "    <tr>\n",
       "      <th>3</th>\n",
       "      <td>NaN</td>\n",
       "      <td>Jojo Moyes</td>\n",
       "      <td>2015.0</td>\n",
       "      <td>After You</td>\n",
       "      <td>After You (Me Before You, #2)</td>\n",
       "      <td>eng</td>\n",
       "      <td>566</td>\n",
       "      <td>https://images.gr-assets.com/books/1429029729m...</td>\n",
       "    </tr>\n",
       "    <tr>\n",
       "      <th>4</th>\n",
       "      <td>2266079999</td>\n",
       "      <td>Carl Sagan</td>\n",
       "      <td>1985.0</td>\n",
       "      <td>Contact</td>\n",
       "      <td>Contact</td>\n",
       "      <td>eng</td>\n",
       "      <td>1003</td>\n",
       "      <td>https://images.gr-assets.com/books/1408792653m...</td>\n",
       "    </tr>\n",
       "  </tbody>\n",
       "</table>\n",
       "</div>"
      ]
     },
     "execution_count": 5,
     "metadata": {},
     "output_type": "execute_result"
    }
   ],
   "execution_count": 5
  },
  {
   "metadata": {
    "ExecuteTime": {
     "end_time": "2025-05-12T18:59:46.837223Z",
     "start_time": "2025-05-12T18:59:45.872027Z"
    }
   },
   "cell_type": "code",
   "source": [
    "# --- 2. Unir ratings con books ---\n",
    "# Paso 1: Obtener book_id a partir de copy_id\n",
    "ratings_books = ratings.merge(copies, on='copy_id', how='left')\n",
    "\n",
    "# Paso 2: Unir con libros para tener títulos\n",
    "ratings_books = ratings_books.merge(books[['book_id', 'title']], on='book_id', how='left')"
   ],
   "id": "c4cf8ff2a65242bb",
   "outputs": [],
   "execution_count": 6
  },
  {
   "metadata": {
    "ExecuteTime": {
     "end_time": "2025-05-12T18:59:48.893825Z",
     "start_time": "2025-05-12T18:59:48.767310Z"
    }
   },
   "cell_type": "code",
   "source": [
    "# --- 3. Filtrar solo valoraciones positivas (>= 4) ---\n",
    "ratings_books = ratings_books[ratings_books['rating'] >= 4]"
   ],
   "id": "b5c1b37ad333f8a1",
   "outputs": [],
   "execution_count": 7
  },
  {
   "metadata": {
    "ExecuteTime": {
     "end_time": "2025-05-12T19:00:28.503196Z",
     "start_time": "2025-05-12T18:59:53.287993Z"
    }
   },
   "cell_type": "code",
   "source": [
    "# --- 4. Crear tabla de transacciones usuario-libros ---\n",
    "# --- FILTRAR POR LIBROS POPULARES Y USUARIOS ACTIVOS ANTES DE CREAR EL BASKET ---\n",
    "# Filtrar libros con al menos N valoraciones positivas\n",
    "min_users = 100\n",
    "libros_filtrados = ratings_books['title'].value_counts()\n",
    "libros_populares = libros_filtrados[libros_filtrados >= min_users].index\n",
    "\n",
    "# Filtrar usuarios que han valorado al menos M libros\n",
    "min_books_rated = 3\n",
    "user_activity = ratings_books['user_id'].value_counts()\n",
    "usuarios_activos = user_activity[user_activity >= min_books_rated].index\n",
    "\n",
    "# Aplicar ambos filtros a ratings_books antes de construir el basket\n",
    "filtered_ratings = ratings_books[\n",
    "    ratings_books['title'].isin(libros_populares) &\n",
    "    ratings_books['user_id'].isin(usuarios_activos)\n",
    "]\n",
    "# Crear tabla de transacciones usuario-libros (basket)\n",
    "basket = filtered_ratings.groupby(['user_id', 'title'])['rating'].count().unstack().fillna(0)\n",
    "basket = basket > 0  # Convertir a booleano para Apriori"
   ],
   "id": "466e680cea89227e",
   "outputs": [],
   "execution_count": 8
  },
  {
   "metadata": {
    "ExecuteTime": {
     "end_time": "2025-05-12T19:01:22.277618Z",
     "start_time": "2025-05-12T19:00:31.351629Z"
    }
   },
   "cell_type": "code",
   "source": [
    "# --- 5. Aplicar Apriori ---\n",
    "frequent_itemsets = apriori(basket, min_support=0.05, use_colnames=True)"
   ],
   "id": "7a89813192d0a723",
   "outputs": [],
   "execution_count": 9
  },
  {
   "metadata": {
    "ExecuteTime": {
     "end_time": "2025-05-12T19:01:27.540846Z",
     "start_time": "2025-05-12T19:01:27.289384Z"
    }
   },
   "cell_type": "code",
   "source": [
    "# --- 6. Generar reglas ---\n",
    "rules = association_rules(frequent_itemsets, metric=\"lift\", min_threshold=1.0)\n",
    "rules = rules.sort_values(by='lift', ascending=False)"
   ],
   "id": "fa44f549a4a3d77c",
   "outputs": [],
   "execution_count": 10
  },
  {
   "metadata": {
    "ExecuteTime": {
     "end_time": "2025-05-12T19:01:29.952802Z",
     "start_time": "2025-05-12T19:01:29.948801Z"
    }
   },
   "cell_type": "code",
   "source": [
    "# --- 7. Mostrar recomendaciones ---\n",
    "def recomendar_libros(basado_en_libro, top_n=5):\n",
    "    basado_en_libro = basado_en_libro.lower()\n",
    "    recomendados = []\n",
    "\n",
    "    for _, row in rules.iterrows():\n",
    "        if basado_en_libro in [x.lower() for x in row['antecedents']]:\n",
    "            recomendados.extend(row['consequents'])\n",
    "\n",
    "    # Eliminar duplicados y limitar a N\n",
    "    recomendados = list(set(recomendados))\n",
    "    return recomendados[:top_n]"
   ],
   "id": "ec786d9bda7fff61",
   "outputs": [],
   "execution_count": 11
  },
  {
   "metadata": {
    "ExecuteTime": {
     "end_time": "2025-05-12T19:01:33.867971Z",
     "start_time": "2025-05-12T19:01:32.841466Z"
    }
   },
   "cell_type": "code",
   "source": [
    "# Ejemplo de uso:\n",
    "print(\"Si te gustó 'The Hobbit', también podrías leer:\")\n",
    "print(recomendar_libros('The Hobbit'))"
   ],
   "id": "822194ab442ade64",
   "outputs": [
    {
     "name": "stdout",
     "output_type": "stream",
     "text": [
      "Si te gustó 'The Hobbit', también podrías leer:\n",
      "['The Two Towers (The Lord of the Rings, #2)', 'Harry Potter and the Goblet of Fire (Harry Potter, #4)', 'Of Mice and Men', 'Harry Potter and the Chamber of Secrets (Harry Potter, #2)', '1984']\n"
     ]
    }
   ],
   "execution_count": 12
  }
 ],
 "metadata": {
  "kernelspec": {
   "display_name": "Python 3",
   "language": "python",
   "name": "python3"
  },
  "language_info": {
   "codemirror_mode": {
    "name": "ipython",
    "version": 2
   },
   "file_extension": ".py",
   "mimetype": "text/x-python",
   "name": "python",
   "nbconvert_exporter": "python",
   "pygments_lexer": "ipython2",
   "version": "2.7.6"
  }
 },
 "nbformat": 4,
 "nbformat_minor": 5
}
